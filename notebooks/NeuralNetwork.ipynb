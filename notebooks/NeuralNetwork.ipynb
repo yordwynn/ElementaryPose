{
 "cells": [
  {
   "cell_type": "markdown",
   "metadata": {
    "collapsed": true
   },
   "source": [
    "# Neural network classifier"
   ]
  },
  {
   "cell_type": "code",
   "execution_count": 1,
   "metadata": {},
   "outputs": [],
   "source": [
    "%matplotlib inline"
   ]
  },
  {
   "cell_type": "markdown",
   "metadata": {},
   "source": [
    "## Load data"
   ]
  },
  {
   "cell_type": "code",
   "execution_count": 2,
   "metadata": {},
   "outputs": [],
   "source": [
    "from imbatcher.Decoder import Decoder\n",
    "\n",
    "\n",
    "paths = [\"/home/yordwynn/Image/screenshots/true/\",\n",
    "         \"/home/yordwynn/Image/screenshots/false/\"]\n",
    "labels = [1, 0]\n",
    "data = Decoder.decode_png_images(paths, labels, 0.4)\n",
    "x_data = data[\"data\"]\n",
    "y_data = data[\"labels\"]"
   ]
  },
  {
   "cell_type": "markdown",
   "metadata": {},
   "source": [
    "## Show data"
   ]
  },
  {
   "cell_type": "markdown",
   "metadata": {},
   "source": [
    "Print 5 positive and 5 negative random images"
   ]
  },
  {
   "cell_type": "code",
   "execution_count": 3,
   "metadata": {},
   "outputs": [
    {
     "data": {
      "image/png": "[encoded data removed]",
      "text/plain": [
       "<Figure size 432x288 with 10 Axes>"
      ]
     },
     "metadata": {
      "needs_background": "light"
     },
     "output_type": "display_data"
    }
   ],
   "source": [
    "import numpy as np\n",
    "import matplotlib.pyplot as plt\n",
    "\n",
    "samples_per_class = 5\n",
    "num_classes = len(labels)\n",
    "\n",
    "y_data = np.array(y_data).reshape(-1)\n",
    "x_data = np.array(x_data)\n",
    "\n",
    "for y, item in enumerate(labels):\n",
    "    idxs = np.flatnonzero(y_data == item)\n",
    "    idxs = np.random.choice(idxs, samples_per_class, replace=False)\n",
    "    \n",
    "    for i, idx in enumerate(idxs):\n",
    "        image = x_data[idxs[i]]\n",
    "        image = image.reshape(288, 288, 3)\n",
    "        label = y_data[idxs[i]]\n",
    "        plt.subplot(num_classes, samples_per_class, i + 1 + y * samples_per_class)\n",
    "        plt.imshow(image)\n",
    "        plt.title(label)\n",
    "        \n",
    "plt.show()"
   ]
  },
  {
   "cell_type": "markdown",
   "metadata": {},
   "source": [
    "## Tune neural network classifier"
   ]
  },
  {
   "cell_type": "code",
   "execution_count": 4,
   "metadata": {},
   "outputs": [
    {
     "ename": "NameError",
     "evalue": "name 'metric' is not defined",
     "output_type": "error",
     "traceback": [
      "\u001b[0;31m---------------------------------------------------------------------------\u001b[0m",
      "\u001b[0;31mNameError\u001b[0m                                 Traceback (most recent call last)",
      "\u001b[0;32m<ipython-input-4-4a95acf1a7d4>\u001b[0m in \u001b[0;36m<module>\u001b[0;34m\u001b[0m\n\u001b[1;32m      7\u001b[0m \u001b[0;34m\u001b[0m\u001b[0m\n\u001b[1;32m      8\u001b[0m \u001b[0mactivation\u001b[0m \u001b[0;34m=\u001b[0m \u001b[0;34m[\u001b[0m\u001b[0;34m\"logistic\"\u001b[0m\u001b[0;34m,\u001b[0m \u001b[0;34m\"relu\"\u001b[0m\u001b[0;34m]\u001b[0m\u001b[0;34m\u001b[0m\u001b[0;34m\u001b[0m\u001b[0m\n\u001b[0;32m----> 9\u001b[0;31m \u001b[0mactivation_count\u001b[0m \u001b[0;34m=\u001b[0m \u001b[0mlen\u001b[0m\u001b[0;34m(\u001b[0m\u001b[0mmetric\u001b[0m\u001b[0;34m)\u001b[0m\u001b[0;34m\u001b[0m\u001b[0;34m\u001b[0m\u001b[0m\n\u001b[0m\u001b[1;32m     10\u001b[0m \u001b[0;34m\u001b[0m\u001b[0m\n\u001b[1;32m     11\u001b[0m \u001b[0msolver\u001b[0m \u001b[0;34m=\u001b[0m \u001b[0;34m[\u001b[0m\u001b[0;34m\"adam\"\u001b[0m\u001b[0;34m,\u001b[0m \u001b[0;34m\"lbfgs\"\u001b[0m\u001b[0;34m]\u001b[0m \u001b[0;31m#его не буду тюнить через поиск гиперпараметров\u001b[0m\u001b[0;34m\u001b[0m\u001b[0;34m\u001b[0m\u001b[0m\n",
      "\u001b[0;31mNameError\u001b[0m: name 'metric' is not defined"
     ]
    }
   ],
   "source": [
    "from sklearn.model_selection import GridSearchCV\n",
    "from sklearn.metrics import make_scorer\n",
    "from sklearn.metrics import accuracy_score\n",
    "from sklearn.metrics import recall_score\n",
    "from sklearn.neural_network import MLPClassifier\n",
    "from sklearn.model_selection import StratifiedShuffleSplit\n",
    "\n",
    "activation = [\"logistic\", \"relu\"]\n",
    "activation_count = len(activation)\n",
    "\n",
    "solver = [\"adam\", \"lbfgs\"] #его не буду тюнить через поиск гиперпараметров\n",
    "solver_count = len(solver)\n",
    "\n",
    "alpha = np.arange(0.0001,1,0.1)\n",
    "alpha_count = len(alpha)\n",
    "\n",
    "classifier = MLPClassifier(activation=\"logistic\", solver=\"lbfgs\")\n",
    "param_grid = {\"alpha\": alpha}\n",
    "scoring = {\"accuracy\": make_scorer(accuracy_score),\n",
    "           \"recall\": make_scorer(recall_score)}\n",
    "cv = StratifiedShuffleSplit(n_splits=5, test_size=0.2)\n",
    "\n",
    "gs = GridSearchCV(classifier, param_grid=param_grid, scoring=scoring,\n",
    "                  cv=cv, refit='accuracy', return_train_score=True, iid=False)\n",
    "gs.fit(x_data[257:357], y_data[257:357])\n",
    "\n",
    "results = gs.cv_results_\n",
    "best_params = gs.best_params_\n",
    "best_score = gs.best_score_\n",
    "\n",
    "print(best_params)\n",
    "print(best_score)"
   ]
  },
  {
   "cell_type": "code",
   "execution_count": null,
   "metadata": {},
   "outputs": [],
   "source": []
  }
 ],
 "metadata": {
  "kernelspec": {
   "display_name": "Python 3",
   "language": "python",
   "name": "python3"
  },
  "language_info": {
   "codemirror_mode": {
    "name": "ipython",
    "version": 3
   },
   "file_extension": ".py",
   "mimetype": "text/x-python",
   "name": "python",
   "nbconvert_exporter": "python",
   "pygments_lexer": "ipython3",
   "version": "3.6.8"
  }
 },
 "nbformat": 4,
 "nbformat_minor": 1
}
