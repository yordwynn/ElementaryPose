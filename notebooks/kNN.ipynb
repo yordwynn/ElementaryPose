{
 "cells": [
  {
   "cell_type": "markdown",
   "metadata": {
    "collapsed": true
   },
   "source": [
    "# k-Nearest Neighbour experiment"
   ]
  },
  {
   "cell_type": "markdown",
   "metadata": {},
   "source": [
    "## Load data"
   ]
  },
  {
   "cell_type": "code",
   "execution_count": 1,
   "metadata": {},
   "outputs": [
    {
     "name": "stdout",
     "output_type": "stream",
     "text": [
      "594\n",
      "594\n"
     ]
    }
   ],
   "source": [
    "from imbatcher.Decoder import Decoder\n",
    "\n",
    "\n",
    "paths = [\"/home/yordwynn/Image/screenshots/true/\",\n",
    "         \"/home/yordwynn/Image/screenshots/false/\"]\n",
    "labels = [1, 0]\n",
    "data = Decoder.decode_png_images(paths, labels)\n",
    "x_data = data[\"data\"]\n",
    "y_data = data[\"labels\"]\n",
    "print(len(x_data))\n",
    "print(len(y_data))"
   ]
  },
  {
   "cell_type": "markdown",
   "metadata": {},
   "source": [
    "## Print data"
   ]
  },
  {
   "cell_type": "markdown",
   "metadata": {},
   "source": [
    "Print 5 positive and 5 negative random images"
   ]
  },
  {
   "cell_type": "code",
   "execution_count": 16,
   "metadata": {},
   "outputs": [
    {
     "data": {
      "image/png": "[encoded data removed]",
      "text/plain": [
       "<Figure size 432x288 with 10 Axes>"
      ]
     },
     "metadata": {
      "needs_background": "light"
     },
     "output_type": "display_data"
    }
   ],
   "source": [
    "import numpy as np\n",
    "import matplotlib.pyplot as plt\n",
    "\n",
    "samples_per_class = 5\n",
    "num_classes = len(labels)\n",
    "\n",
    "y_data = np.array(y_data)\n",
    "x_data = np.array(x_data)\n",
    "\n",
    "for y, item in enumerate(labels):\n",
    "    idxs = np.flatnonzero(y_data == item)\n",
    "    idxs = np.random.choice(idxs, samples_per_class, replace=False)\n",
    "    \n",
    "    for i, idx in enumerate(idxs):\n",
    "        image = x_data[idxs[i]]\n",
    "        image = image.reshape(720, 720, 3)\n",
    "        label = y_data[idxs[i]]\n",
    "        plt.subplot(num_classes, samples_per_class, i + 1 + y * samples_per_class)\n",
    "        plt.imshow(image)\n",
    "        plt.title(label)\n",
    "        \n",
    "plt.show()"
   ]
  },
  {
   "cell_type": "markdown",
   "metadata": {},
   "source": [
    "## Setup kNN"
   ]
  },
  {
   "cell_type": "code",
   "execution_count": null,
   "metadata": {},
   "outputs": [],
   "source": []
  }
 ],
 "metadata": {
  "kernelspec": {
   "display_name": "Python 3",
   "language": "python",
   "name": "python3"
  },
  "language_info": {
   "codemirror_mode": {
    "name": "ipython",
    "version": 3
   },
   "file_extension": ".py",
   "mimetype": "text/x-python",
   "name": "python",
   "nbconvert_exporter": "python",
   "pygments_lexer": "ipython3",
   "version": "3.7.1"
  }
 },
 "nbformat": 4,
 "nbformat_minor": 1
}
